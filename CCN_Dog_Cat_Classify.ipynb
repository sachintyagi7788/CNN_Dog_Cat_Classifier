{
  "nbformat": 4,
  "nbformat_minor": 0,
  "metadata": {
    "colab": {
      "name": "Untitled0.ipynb",
      "version": "0.3.2",
      "provenance": [],
      "collapsed_sections": [],
      "include_colab_link": true
    },
    "kernelspec": {
      "name": "python3",
      "display_name": "Python 3"
    },
    "accelerator": "GPU"
  },
  "cells": [
    {
      "cell_type": "markdown",
      "metadata": {
        "id": "view-in-github",
        "colab_type": "text"
      },
      "source": [
        "<a href=\"https://colab.research.google.com/github/sachintyagi7788/CNN_Dog_Cat_Classifier/blob/master/CCN_Dog_Cat_Classify.ipynb\" target=\"_parent\"><img src=\"https://colab.research.google.com/assets/colab-badge.svg\" alt=\"Open In Colab\"/></a>"
      ]
    },
    {
      "cell_type": "code",
      "metadata": {
        "id": "7fkoLNdaOPRq",
        "colab_type": "code",
        "colab": {}
      },
      "source": [
        "!pip install -U -q PyDrive\n",
        "import os\n",
        "from pydrive.auth import GoogleAuth\n",
        "from pydrive.drive import GoogleDrive\n",
        "from google.colab import auth\n",
        "from oauth2client.client import GoogleCredentials\n",
        "\n",
        "# 1. Authenticate and create the PyDrive client.\n",
        "auth.authenticate_user()\n",
        "gauth = GoogleAuth()\n",
        "gauth.credentials = GoogleCredentials.get_application_default()\n",
        "drive = GoogleDrive(gauth)\n"
      ],
      "execution_count": 0,
      "outputs": []
    },
    {
      "cell_type": "code",
      "metadata": {
        "id": "qDMCFbTbX3FX",
        "colab_type": "code",
        "colab": {
          "base_uri": "https://localhost:8080/",
          "height": 54
        },
        "outputId": "87d05ae1-cfe2-4842-8120-1a619eacbcb2"
      },
      "source": [
        "# Run this cell to mount your Google Drive.\n",
        "from google.colab import drive\n",
        "drive.mount('/content/drive')"
      ],
      "execution_count": 19,
      "outputs": [
        {
          "output_type": "stream",
          "text": [
            "Drive already mounted at /content/drive; to attempt to forcibly remount, call drive.mount(\"/content/drive\", force_remount=True).\n"
          ],
          "name": "stdout"
        }
      ]
    },
    {
      "cell_type": "code",
      "metadata": {
        "id": "fruR6hrRavzW",
        "colab_type": "code",
        "colab": {}
      },
      "source": [
        "from keras.models import Sequential\n",
        "from keras.layers import Conv2D\n",
        "from keras.layers import MaxPooling2D\n",
        "from keras.layers import Flatten\n",
        "from keras.layers import Dense\n",
        "from keras.preprocessing.image import ImageDataGenerator\n"
      ],
      "execution_count": 0,
      "outputs": []
    },
    {
      "cell_type": "code",
      "metadata": {
        "id": "4XQns8IAcAIO",
        "colab_type": "code",
        "colab": {
          "base_uri": "https://localhost:8080/",
          "height": 51
        },
        "outputId": "5f64cc29-6aec-4eb2-aa95-78cdc1f6bb6b"
      },
      "source": [
        "classifier = Sequential()\n",
        "\n",
        "classifier.add(Conv2D(32,(3,3), input_shape=(64,64,3),activation='relu'))\n",
        "\n",
        "classifier.add(MaxPooling2D(pool_size=(2,2)))\n",
        "classifier.add(Flatten())\n",
        "classifier.add(Dense(units=128,activation='relu'))\n",
        "\n",
        "classifier.add(Dense(units=1, activation='sigmoid'))\n",
        "\n",
        "classifier.compile(optimizer='adam',loss='binary_crossentropy',metrics=['accuracy'])\n",
        "\n",
        "train_datagen = ImageDataGenerator(rescale=1./255,shear_range=0.2, zoom_range=0.2, horizontal_flip=True)\n",
        "test_datagen = ImageDataGenerator(rescale=1./255)\n",
        "\n",
        "training_set = train_datagen.flow_from_directory('/content/drive/My Drive/Dog_Cat_Dataset/training_set',target_size=(64,64),batch_size=32, class_mode='binary')\n",
        "\n",
        "test_set = test_datagen.flow_from_directory('/content/drive/My Drive/Dog_Cat_Dataset/test_set',target_size=(64,64),batch_size=32, class_mode='binary')\n"
      ],
      "execution_count": 14,
      "outputs": [
        {
          "output_type": "stream",
          "text": [
            "Found 1589 images belonging to 2 classes.\n",
            "Found 378 images belonging to 2 classes.\n"
          ],
          "name": "stdout"
        }
      ]
    },
    {
      "cell_type": "code",
      "metadata": {
        "id": "IYIudEf2dbeL",
        "colab_type": "code",
        "colab": {
          "base_uri": "https://localhost:8080/",
          "height": 938
        },
        "outputId": "d1dbf9b8-833e-490b-a3f4-bb2146514fe2"
      },
      "source": [
        "#Now finaly fit the data to our model\n",
        "classifier.fit_generator(training_set,steps_per_epoch=8000,epochs=25, validation_data=test_set,validation_steps=2000)\n"
      ],
      "execution_count": 15,
      "outputs": [
        {
          "output_type": "stream",
          "text": [
            "W0706 18:04:49.878182 139937674848128 deprecation_wrapper.py:119] From /usr/local/lib/python3.6/dist-packages/keras/backend/tensorflow_backend.py:986: The name tf.assign_add is deprecated. Please use tf.compat.v1.assign_add instead.\n",
            "\n"
          ],
          "name": "stderr"
        },
        {
          "output_type": "stream",
          "text": [
            "Epoch 1/25\n",
            "8000/8000 [==============================] - 1317s 165ms/step - loss: 0.1866 - acc: 0.9175 - val_loss: 1.6853 - val_acc: 0.7434\n",
            "Epoch 2/25\n",
            "8000/8000 [==============================] - 902s 113ms/step - loss: 0.0219 - acc: 0.9927 - val_loss: 2.2398 - val_acc: 0.7303\n",
            "Epoch 3/25\n",
            "8000/8000 [==============================] - 903s 113ms/step - loss: 0.0143 - acc: 0.9954 - val_loss: 2.1923 - val_acc: 0.7432\n",
            "Epoch 4/25\n",
            "8000/8000 [==============================] - 900s 113ms/step - loss: 0.0099 - acc: 0.9968 - val_loss: 2.3890 - val_acc: 0.7197\n",
            "Epoch 5/25\n",
            "8000/8000 [==============================] - 900s 112ms/step - loss: 0.0085 - acc: 0.9975 - val_loss: 2.7805 - val_acc: 0.7167\n",
            "Epoch 6/25\n",
            "8000/8000 [==============================] - 902s 113ms/step - loss: 0.0091 - acc: 0.9975 - val_loss: 2.4728 - val_acc: 0.7302\n",
            "Epoch 7/25\n",
            "8000/8000 [==============================] - 900s 113ms/step - loss: 0.0063 - acc: 0.9982 - val_loss: 2.8003 - val_acc: 0.7195\n",
            "Epoch 8/25\n",
            "8000/8000 [==============================] - 900s 112ms/step - loss: 0.0051 - acc: 0.9986 - val_loss: 2.6073 - val_acc: 0.7303\n",
            "Epoch 9/25\n",
            "8000/8000 [==============================] - 901s 113ms/step - loss: 0.0048 - acc: 0.9988 - val_loss: 2.7727 - val_acc: 0.7248\n",
            "Epoch 10/25\n",
            "8000/8000 [==============================] - 901s 113ms/step - loss: 0.0051 - acc: 0.9986 - val_loss: 3.5101 - val_acc: 0.6984\n",
            "Epoch 11/25\n",
            "8000/8000 [==============================] - 901s 113ms/step - loss: 0.0036 - acc: 0.9991 - val_loss: 3.0919 - val_acc: 0.7116\n",
            "Epoch 12/25\n",
            "8000/8000 [==============================] - 901s 113ms/step - loss: 0.0035 - acc: 0.9991 - val_loss: 2.8035 - val_acc: 0.7169\n",
            "Epoch 13/25\n",
            "8000/8000 [==============================] - 903s 113ms/step - loss: 0.0036 - acc: 0.9991 - val_loss: 3.2531 - val_acc: 0.7064\n",
            "Epoch 14/25\n",
            "8000/8000 [==============================] - 903s 113ms/step - loss: 0.0034 - acc: 0.9991 - val_loss: 3.2848 - val_acc: 0.7223\n",
            "Epoch 15/25\n",
            "8000/8000 [==============================] - 903s 113ms/step - loss: 0.0036 - acc: 0.9991 - val_loss: 2.9631 - val_acc: 0.7435\n",
            "Epoch 16/25\n",
            "8000/8000 [==============================] - 902s 113ms/step - loss: 0.0030 - acc: 0.9993 - val_loss: 3.0924 - val_acc: 0.7434\n",
            "Epoch 17/25\n",
            "8000/8000 [==============================] - 910s 114ms/step - loss: 0.0027 - acc: 0.9994 - val_loss: 3.0967 - val_acc: 0.7300\n",
            "Epoch 18/25\n",
            "8000/8000 [==============================] - 905s 113ms/step - loss: 0.0034 - acc: 0.9993 - val_loss: 3.2707 - val_acc: 0.7224\n",
            "Epoch 19/25\n",
            "8000/8000 [==============================] - 908s 113ms/step - loss: 0.0029 - acc: 0.9994 - val_loss: 2.7909 - val_acc: 0.7487\n",
            "Epoch 20/25\n",
            "8000/8000 [==============================] - 915s 114ms/step - loss: 0.0027 - acc: 0.9994 - val_loss: 3.0124 - val_acc: 0.7461\n",
            "Epoch 21/25\n",
            "8000/8000 [==============================] - 924s 115ms/step - loss: 0.0032 - acc: 0.9993 - val_loss: 3.1931 - val_acc: 0.7302\n",
            "Epoch 22/25\n",
            "8000/8000 [==============================] - 923s 115ms/step - loss: 0.0028 - acc: 0.9994 - val_loss: 3.0366 - val_acc: 0.7249\n",
            "Epoch 23/25\n",
            "8000/8000 [==============================] - 923s 115ms/step - loss: 0.0025 - acc: 0.9995 - val_loss: 3.2229 - val_acc: 0.7380\n",
            "Epoch 24/25\n",
            "8000/8000 [==============================] - 924s 116ms/step - loss: 0.0021 - acc: 0.9996 - val_loss: 3.5345 - val_acc: 0.7117\n",
            "Epoch 25/25\n",
            "8000/8000 [==============================] - 924s 116ms/step - loss: 0.0025 - acc: 0.9995 - val_loss: 3.5178 - val_acc: 0.7222\n"
          ],
          "name": "stdout"
        },
        {
          "output_type": "execute_result",
          "data": {
            "text/plain": [
              "<keras.callbacks.History at 0x7f457cc08208>"
            ]
          },
          "metadata": {
            "tags": []
          },
          "execution_count": 15
        }
      ]
    },
    {
      "cell_type": "code",
      "metadata": {
        "id": "ImGMj-6aK_fy",
        "colab_type": "code",
        "colab": {}
      },
      "source": [
        "import numpy as np\n",
        "from keras.preprocessing import image\n"
      ],
      "execution_count": 0,
      "outputs": []
    },
    {
      "cell_type": "code",
      "metadata": {
        "id": "8tnpYPBKLEXC",
        "colab_type": "code",
        "colab": {
          "base_uri": "https://localhost:8080/",
          "height": 34
        },
        "outputId": "31d167cb-b54f-4095-ff50-57e910171139"
      },
      "source": [
        "test_image = image.load_img('/content/drive/My Drive/Dog_Cat_Dataset/test_set/dogs/dog.4036.jpg', target_size=(64,64))\n",
        "\n",
        "test_image = np.expand_dims(test_image, axis=0)\n",
        "result = classifier.predict(test_image)\n",
        "training_set.class_indices\n",
        "if result[0][0] == 1:\n",
        "    prediction='dog'\n",
        "else:\n",
        "    prediction='cat'\n",
        "\n",
        "print(\"Prediction========\", prediction)"
      ],
      "execution_count": 27,
      "outputs": [
        {
          "output_type": "stream",
          "text": [
            "Prediction======== dog\n"
          ],
          "name": "stdout"
        }
      ]
    }
  ]
}